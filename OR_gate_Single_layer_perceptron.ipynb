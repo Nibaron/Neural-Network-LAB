{
  "nbformat": 4,
  "nbformat_minor": 0,
  "metadata": {
    "colab": {
      "name": "OR gate Single layer perceptron.ipynb",
      "provenance": [],
      "authorship_tag": "ABX9TyMV8o7WzzrClovBw93GW/C+",
      "include_colab_link": true
    },
    "kernelspec": {
      "name": "python3",
      "display_name": "Python 3"
    },
    "language_info": {
      "name": "python"
    }
  },
  "cells": [
    {
      "cell_type": "markdown",
      "metadata": {
        "id": "view-in-github",
        "colab_type": "text"
      },
      "source": [
        "<a href=\"https://colab.research.google.com/github/Nibaron/Neural-Network-LAB/blob/main/OR_gate_Single_layer_perceptron.ipynb\" target=\"_parent\"><img src=\"https://colab.research.google.com/assets/colab-badge.svg\" alt=\"Open In Colab\"/></a>"
      ]
    },
    {
      "cell_type": "code",
      "execution_count": null,
      "metadata": {
        "colab": {
          "base_uri": "https://localhost:8080/"
        },
        "id": "2c5M1KbZnNfC",
        "outputId": "3f7f87fd-bac0-4c33-8e79-63570294f006"
      },
      "outputs": [
        {
          "output_type": "stream",
          "name": "stdout",
          "text": [
            "Enter first weight : 0.3\n",
            "Enter Second weight : -0.1\n",
            "Enter Threshold value : 0.2\n",
            "............TRAINING PHASE..................\n",
            "Epoch: 1\n",
            "REAL OUTPUT  |   PREDICTION  |  STATE\n",
            "......................................\n",
            "0                    0         TRUE\n",
            "1                    0         FALSE\n",
            "1                    1         TRUE\n",
            "1                    1         TRUE\n",
            "Epoch: 2\n",
            "REAL OUTPUT  |   PREDICTION  |  STATE\n",
            "......................................\n",
            "0                    0         TRUE\n",
            "1                    0         FALSE\n",
            "1                    1         TRUE\n",
            "1                    1         TRUE\n",
            "Epoch: 3\n",
            "REAL OUTPUT  |   PREDICTION  |  STATE\n",
            "......................................\n",
            "0                    0         TRUE\n",
            "1                    0         FALSE\n",
            "1                    1         TRUE\n",
            "1                    1         TRUE\n",
            "Epoch: 4\n",
            "REAL OUTPUT  |   PREDICTION  |  STATE\n",
            "......................................\n",
            "0                    0         TRUE\n",
            "1                    1         TRUE\n",
            "1                    1         TRUE\n",
            "1                    1         TRUE\n",
            "final weight:\n",
            "0.3 0.2\n"
          ]
        }
      ],
      "source": [
        "#input_output\n",
        "x1=[0,0,1,1];\n",
        "x2=[0,1,0,1];\n",
        "y =[0,1,1,1];\n",
        "\n",
        "#learning_rate\n",
        "a=0.1;\n",
        "\n",
        "#initial weights & threshold value\n",
        "w1=float(input(\"Enter first weight : \"));\n",
        "w2=float(input(\"Enter Second weight : \"));\n",
        "t=float(input(\"Enter Threshold value : \"));\n",
        "\n",
        "print(\"............TRAINING PHASE..................\");\n",
        "print\n",
        "err=[-1,-1,-1,-1];\n",
        "yp=[-1,-1,-1,-1];\n",
        "flag=-1;\n",
        "epoch=1;\n",
        "\n",
        "while(flag!=0):\n",
        "  print(\"Epoch:\",epoch);\n",
        "  print(\"REAL OUTPUT  |   PREDICTION  |  STATE\")\n",
        "  print(\"......................................\")\n",
        "  epoch=epoch+1;\n",
        "  flag=0;\n",
        "  \n",
        "  #predicting output with respect to threshold value\n",
        "  for i in range(4):\n",
        "    yi=x1[i]*w1+x2[i]*w2;\n",
        "    if(yi>=t):\n",
        "     yp[i]=1;\n",
        "    else:\n",
        "     yp[i]=0;\n",
        "    \n",
        "    #error calculation\n",
        "    err[i]=y[i]-yp[i];\n",
        "\n",
        "    #update weight if error occurs\n",
        "    if(err[i]!=0):\n",
        "      w1=w1+a*x1[i]*err[i];\n",
        "      w2=w2+a*x2[i]*err[i];\n",
        "      flag=flag+1;\n",
        "      beap='FALSE';\n",
        "    else:\n",
        "      beap='TRUE';\n",
        "    #print(w1,w2)\n",
        "    #print(err[i])\n",
        "    print(y[i],\"                  \",yp[i],\"       \",beap);\n",
        "print(\"final weight:\");\n",
        "print(w1,w2);"
      ]
    },
    {
      "cell_type": "code",
      "source": [
        "print(\".......TESTING THE MODEL..............\")\n",
        "while(1):\n",
        " a=float(input(\"Enter first input  (0,1): \"));\n",
        " if(a==-1):\n",
        "   break\n",
        " b=float(input(\"Enter Second input (0,1): \"));\n",
        " result=w1*a + w2*b;\n",
        " if(result>=t):\n",
        "   print(\"the Output is: 1\");\n",
        " else:\n",
        "   print(\"the Output is: 0\");"
      ],
      "metadata": {
        "colab": {
          "base_uri": "https://localhost:8080/"
        },
        "id": "mZcvEs8KnbxB",
        "outputId": "c9648a8f-9cd1-4cfa-d8c3-ba93a4ff97f2"
      },
      "execution_count": null,
      "outputs": [
        {
          "name": "stdout",
          "output_type": "stream",
          "text": [
            ".......TESTING THE MODEL..............\n",
            "Enter first input  (0,1): 0\n",
            "Enter Second input (0,1): 0\n",
            "the Output is: 0\n",
            "Enter first input  (0,1): 0\n",
            "Enter Second input (0,1): 1\n",
            "the Output is: 1\n",
            "Enter first input  (0,1): 1\n",
            "Enter Second input (0,1): 0\n",
            "the Output is: 1\n",
            "Enter first input  (0,1): 1\n",
            "Enter Second input (0,1): 1\n",
            "the Output is: 1\n",
            "Enter first input  (0,1): -1\n"
          ]
        }
      ]
    }
  ]
}