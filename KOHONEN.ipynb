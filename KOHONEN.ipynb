{
  "nbformat": 4,
  "nbformat_minor": 0,
  "metadata": {
    "colab": {
      "name": "KOHONEN.ipynb",
      "provenance": [],
      "authorship_tag": "ABX9TyMuy9md1cDnqi6IxqZ0jK9V",
      "include_colab_link": true
    },
    "kernelspec": {
      "name": "python3",
      "display_name": "Python 3"
    },
    "language_info": {
      "name": "python"
    }
  },
  "cells": [
    {
      "cell_type": "markdown",
      "metadata": {
        "id": "view-in-github",
        "colab_type": "text"
      },
      "source": [
        "<a href=\"https://colab.research.google.com/github/Nibaron/Neural-Network-LAB/blob/main/KOHONEN.ipynb\" target=\"_parent\"><img src=\"https://colab.research.google.com/assets/colab-badge.svg\" alt=\"Open In Colab\"/></a>"
      ]
    },
    {
      "cell_type": "code",
      "source": [
        "import matplotlib.pyplot as plt\n",
        "import math\n",
        "import numpy as np\n",
        "import random"
      ],
      "metadata": {
        "id": "wC3e0vIixWW-"
      },
      "execution_count": null,
      "outputs": []
    },
    {
      "cell_type": "code",
      "source": [
        "v = int(input(\"Enter Vector Size : \"));\n",
        "c = int(input(\"Enter Cluster Size : \"));"
      ],
      "metadata": {
        "colab": {
          "base_uri": "https://localhost:8080/"
        },
        "id": "TWr51K9H2UM7",
        "outputId": "83f3b3a0-b48a-4d63-961d-2affe5421c94"
      },
      "execution_count": null,
      "outputs": [
        {
          "name": "stdout",
          "output_type": "stream",
          "text": [
            "Enter Vector Size : 4\n",
            "Enter Cluster Size : 2\n"
          ]
        }
      ]
    },
    {
      "cell_type": "code",
      "source": [
        "#vector_initialization\n",
        "vector=np.random.choice([0, 1], size=(v,v))\n",
        "print(vector)"
      ],
      "metadata": {
        "colab": {
          "base_uri": "https://localhost:8080/"
        },
        "id": "OC0rE8ity65g",
        "outputId": "85733bbc-48a5-4e1d-dcdc-23745018a726"
      },
      "execution_count": null,
      "outputs": [
        {
          "output_type": "stream",
          "name": "stdout",
          "text": [
            "[[0 1 0 1]\n",
            " [0 0 0 0]\n",
            " [1 0 0 1]\n",
            " [0 0 1 0]]\n"
          ]
        }
      ]
    },
    {
      "cell_type": "code",
      "source": [
        "#weight_initialization\n",
        "weight= np.random.random(size=(v,c))\n",
        "print(weight)"
      ],
      "metadata": {
        "colab": {
          "base_uri": "https://localhost:8080/"
        },
        "id": "iI9cOqBNyTmS",
        "outputId": "45ba383a-eba6-4371-ae11-ced152959160"
      },
      "execution_count": null,
      "outputs": [
        {
          "output_type": "stream",
          "name": "stdout",
          "text": [
            "[[0.51959779 0.23263248]\n",
            " [0.99042529 0.47132332]\n",
            " [0.50886055 0.77514779]\n",
            " [0.9677816  0.41115787]]\n"
          ]
        }
      ]
    },
    {
      "cell_type": "code",
      "source": [
        "#distance_initialization\n",
        "d=np.random.random(size=(c))\n",
        "for i in range(c):\n",
        "  d[i]=0.0\n",
        "print(d)"
      ],
      "metadata": {
        "colab": {
          "base_uri": "https://localhost:8080/"
        },
        "id": "8sV6Tpf-9v7W",
        "outputId": "7a1c779a-2720-4b58-efe6-ca7e0be65646"
      },
      "execution_count": null,
      "outputs": [
        {
          "output_type": "stream",
          "name": "stdout",
          "text": [
            "[0. 0.]\n"
          ]
        }
      ]
    },
    {
      "cell_type": "code",
      "source": [
        "#1st vector and 1st weight pair\n",
        "for i in range(v):\n",
        "  print(vector[0][i])\n",
        "  print(weight[i][0])"
      ],
      "metadata": {
        "colab": {
          "base_uri": "https://localhost:8080/"
        },
        "id": "4rdxWb4a_mD0",
        "outputId": "498d3c32-da63-48ea-9bf1-85aff07bc37b"
      },
      "execution_count": null,
      "outputs": [
        {
          "output_type": "stream",
          "name": "stdout",
          "text": [
            "0\n",
            "0.519597789546938\n",
            "1\n",
            "0.9904252932484031\n",
            "0\n",
            "0.5088605483462418\n",
            "1\n",
            "0.9677815974217402\n"
          ]
        }
      ]
    },
    {
      "cell_type": "code",
      "source": [
        "#1st vector and 2nd weight pair\n",
        "for i in range(v):\n",
        "  print(vector[0][i])\n",
        "  print(weight[i][1])"
      ],
      "metadata": {
        "colab": {
          "base_uri": "https://localhost:8080/"
        },
        "id": "v9Wg-fEZk8wT",
        "outputId": "8aba7346-d551-46ae-d26f-2e3c0e130eac"
      },
      "execution_count": null,
      "outputs": [
        {
          "output_type": "stream",
          "name": "stdout",
          "text": [
            "0\n",
            "0.23263248288855198\n",
            "1\n",
            "0.4713233179423453\n",
            "0\n",
            "0.775147789446159\n",
            "1\n",
            "0.41115786636790286\n"
          ]
        }
      ]
    },
    {
      "cell_type": "code",
      "source": [
        "#distance and weight update\n",
        "print(weight)\n",
        "print()\n",
        "alpha=0.5\n",
        "for m in range(v):\n",
        "  print(\"for  Vector Input: \",m)\n",
        "  for i in range(c):\n",
        "    for j in range(v):\n",
        "      d[i] = d[i] + math.pow((vector[m][j]-weight[j][i]),2);\n",
        "  print(\"Euclidian Distances array: \")\n",
        "  print(d)\n",
        "  wc=np.argmin(d)\n",
        "  print(\"winning Cluster Index:\",wc)\n",
        "  for i in range(c):\n",
        "     d[i]=0.0\n",
        "  for i in range(v):\n",
        "    weight[i][wc] = weight[i][wc] + alpha*(vector[m][i]-weight[i][wc]) \n",
        "  print(\"Weight after  update:\")\n",
        "  print(weight)\n",
        "  print()\n",
        "  print()\n",
        "print(\"The Final weights are:\")\n",
        "print(weight)"
      ],
      "metadata": {
        "colab": {
          "base_uri": "https://localhost:8080/"
        },
        "id": "7W8ZNjLxjUcJ",
        "outputId": "cc0639e0-b600-4407-bf22-d4b2e0bb3f06"
      },
      "execution_count": null,
      "outputs": [
        {
          "output_type": "stream",
          "name": "stdout",
          "text": [
            "[[0.51959779 0.23263248]\n",
            " [0.99042529 0.47132332]\n",
            " [0.50886055 0.77514779]\n",
            " [0.9677816  0.41115787]]\n",
            "\n",
            "for  Vector Input:  0\n",
            "Euclidian Distances array: \n",
            "[0.53005062 1.28120606]\n",
            "winning Cluster Index: 0\n",
            "Weight after  update:\n",
            "[[0.25979889 0.23263248]\n",
            " [0.99521265 0.47132332]\n",
            " [0.25443027 0.77514779]\n",
            " [0.9838908  0.41115787]]\n",
            "\n",
            "\n",
            "for  Vector Input:  1\n",
            "Euclidian Distances array: \n",
            "[2.09071955 1.04616843]\n",
            "winning Cluster Index: 1\n",
            "Weight after  update:\n",
            "[[0.25979889 0.11631624]\n",
            " [0.99521265 0.23566166]\n",
            " [0.25443027 0.38757389]\n",
            " [0.9838908  0.20557893]]\n",
            "\n",
            "\n",
            "for  Vector Input:  2\n",
            "Euclidian Distances array: \n",
            "[1.60334016 1.61775176]\n",
            "winning Cluster Index: 0\n",
            "Weight after  update:\n",
            "[[0.62989945 0.11631624]\n",
            " [0.49760632 0.23566166]\n",
            " [0.12721514 0.38757389]\n",
            " [0.9919454  0.20557893]]\n",
            "\n",
            "\n",
            "for  Vector Input:  3\n",
            "Euclidian Distances array: \n",
            "[2.39009446 0.48639432]\n",
            "winning Cluster Index: 1\n",
            "Weight after  update:\n",
            "[[0.62989945 0.05815812]\n",
            " [0.49760632 0.11783083]\n",
            " [0.12721514 0.69378695]\n",
            " [0.9919454  0.10278947]]\n",
            "\n",
            "\n",
            "The Final weights are:\n",
            "[[0.62989945 0.05815812]\n",
            " [0.49760632 0.11783083]\n",
            " [0.12721514 0.69378695]\n",
            " [0.9919454  0.10278947]]\n"
          ]
        }
      ]
    }
  ]
}